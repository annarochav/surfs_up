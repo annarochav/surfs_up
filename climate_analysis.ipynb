{
 "cells": [
  {
   "cell_type": "code",
   "execution_count": 1,
   "id": "88fef170",
   "metadata": {},
   "outputs": [],
   "source": [
    "from matplotlib import style"
   ]
  },
  {
   "cell_type": "code",
   "execution_count": 2,
   "id": "da906a0e",
   "metadata": {},
   "outputs": [],
   "source": [
    "#add the specific style we want, fivethirtyeight.\n",
    "style.use('fivethirtyeight')"
   ]
  },
  {
   "cell_type": "code",
   "execution_count": 3,
   "id": "5498dadc",
   "metadata": {},
   "outputs": [],
   "source": [
    "import matplotlib.pyplot as plt\n",
    "import numpy as np\n",
    "import pandas as pd\n",
    "import datetime as dt"
   ]
  },
  {
   "cell_type": "markdown",
   "id": "67b59e8a",
   "metadata": {},
   "source": [
    "# Import SQLAlchemy Dependencies"
   ]
  },
  {
   "cell_type": "code",
   "execution_count": 14,
   "id": "733d3ada",
   "metadata": {},
   "outputs": [],
   "source": [
    "import sqlalchemy\n",
    "from sqlalchemy.ext.automap import automap_base\n",
    "from sqlalchemy.orm import Session\n",
    "from sqlalchemy import create_engine, func"
   ]
  },
  {
   "cell_type": "code",
   "execution_count": 5,
   "id": "503406c3",
   "metadata": {},
   "outputs": [],
   "source": [
    "# SQLAlchemy Create Engine\n",
    "#In order to connect to our SQLite database\n",
    "\n",
    "engine = create_engine(\"sqlite:///hawaii.sqlite\")\n"
   ]
  },
  {
   "cell_type": "code",
   "execution_count": 6,
   "id": "7e32fd76",
   "metadata": {},
   "outputs": [],
   "source": [
    "# SQLAlchemy Automap Base\n",
    "# it sets up a foundation for us to build on in SQLAlchemy\n",
    "# We need to reflect our existing database into a new model\n",
    "# essentially means to transfer the contents of the database into a different structure of data.\n",
    "#Automap Base creates a base class for an automap schema in SQLAlchemy.\n",
    "\n",
    "Base = automap_base()"
   ]
  },
  {
   "cell_type": "code",
   "execution_count": 7,
   "id": "eae93864",
   "metadata": {},
   "outputs": [],
   "source": [
    "# SQLAlchemy Reflect Tables\n",
    "# Now that we've gotten our environment set up for SQLAlchemy\n",
    "# we'll reflect the schema of our SQLite tables into our code and create mappings.\n",
    "#Add the following code to reflect the schema from the tables to our code:\n",
    "\n",
    "Base.prepare(engine, reflect=True)"
   ]
  },
  {
   "cell_type": "code",
   "execution_count": 8,
   "id": "bb999b6f",
   "metadata": {},
   "outputs": [
    {
     "data": {
      "text/plain": [
       "['measurement', 'station']"
      ]
     },
     "execution_count": 8,
     "metadata": {},
     "output_type": "execute_result"
    }
   ],
   "source": [
    "# View Classes Found by Automap\n",
    "# confirm that the Automap was able to find all of the data in the SQLite database.\n",
    "#Base.classes gives us access to all the classes and keys() references all the names of the classes.\n",
    "\n",
    "Base.classes.keys()"
   ]
  },
  {
   "cell_type": "code",
   "execution_count": 9,
   "id": "e24cb081",
   "metadata": {},
   "outputs": [],
   "source": [
    "# Save References to Each Table\n",
    "Measurement = Base.classes.measurement\n",
    "Station = Base.classes.station"
   ]
  },
  {
   "cell_type": "code",
   "execution_count": 15,
   "id": "7c22f3d2",
   "metadata": {},
   "outputs": [],
   "source": [
    "# Create Session Link to the Database\n",
    "# Let's create a session link to our database\n",
    "# First, we'll use an SQLAlchemy Session to query our database.\n",
    "\n",
    "session = Session(engine)"
   ]
  },
  {
   "cell_type": "code",
   "execution_count": null,
   "id": "86b1305c",
   "metadata": {},
   "outputs": [],
   "source": []
  }
 ],
 "metadata": {
  "kernelspec": {
   "display_name": "PythonData",
   "language": "python",
   "name": "pythondata"
  },
  "language_info": {
   "codemirror_mode": {
    "name": "ipython",
    "version": 3
   },
   "file_extension": ".py",
   "mimetype": "text/x-python",
   "name": "python",
   "nbconvert_exporter": "python",
   "pygments_lexer": "ipython3",
   "version": "3.7.11"
  }
 },
 "nbformat": 4,
 "nbformat_minor": 5
}
